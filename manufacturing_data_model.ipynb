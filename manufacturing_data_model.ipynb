{
 "cells": [
  {
   "cell_type": "markdown",
   "id": "a8af5083",
   "metadata": {},
   "source": [
    "# 📈 Polynomial Regression – Predicting Manufacturing Quality\n",
    "\n",
    "In this notebook, we explore how *Polynomial Regression* can be used to predict the *Quality Rating* of a manufacturing process based on various physical and material features.\n",
    "\n",
    "## 🧪 Dataset Overview\n",
    "\n",
    "The dataset contains variables such as:\n",
    "\n",
    "- *Temperature (°C)* and *Pressure (kPa)* during the manufacturing process\n",
    "- *Temperature × Pressure* interaction term\n",
    "- *Material Fusion Metric* and *Material Transformation Metric*\n",
    "- Final output: *Quality Rating (0–100%)*\n",
    "\n",
    "## 🎯 Goal\n",
    "\n",
    "Our goal is to model the (potentially non-linear) relationship between process conditions and the final *Quality Rating. We apply **Polynomial Regression* to capture these complex patterns and compare the performance with a standard linear model.\n",
    "\n",
    "This kind of analysis is crucial in modern *industrial quality control*, where slight variations in temperature or material handling can significantly affect product quality.\n",
    "\n",
    "Let's dive in and build the model! 🔧"
   ]
  },
  {
   "cell_type": "markdown",
   "id": "f9aaacb0",
   "metadata": {},
   "source": [
    "## 🧰 Libraries and Tools\n",
    "\n",
    "We start by importing the essential Python libraries used for:\n",
    "\n",
    "- *Data manipulation* → pandas, numpy\n",
    "- *Modeling and preprocessing* → scikit-learn\n",
    "- *Visualization* → matplotlib, seaborn\n",
    "\n",
    "These tools will help us load the dataset, perform exploratory analysis, engineer polynomial features, and build our regression models."
   ]
  },
  {
   "cell_type": "code",
   "execution_count": 3,
   "id": "d1aa35f6",
   "metadata": {},
   "outputs": [],
   "source": [
    "import numpy as np                     # numerical operations\n",
    "import pandas as pd                    # data handling\n",
    "import matplotlib.pyplot as plt        # plotting\n",
    "import seaborn as sns                  # advanced visualization\n",
    "from sklearn.linear_model import LinearRegression          # linear model\n",
    "from sklearn.model_selection import train_test_split       # split dataset"
   ]
  },
  {
   "cell_type": "markdown",
   "id": "3ad2f1e6",
   "metadata": {},
   "source": [
    "## 📥 Loading the Dataset\n",
    "\n",
    "In this section, we load the manufacturing dataset into a Pandas DataFrame.\n",
    "\n",
    "The dataset contains numerical features related to physical conditions (such as temperature and pressure) and material processing metrics.\n",
    "\n",
    "We will take a quick look at the first few rows to understand the structure of the data."
   ]
  },
  {
   "cell_type": "code",
   "execution_count": 4,
   "id": "30d39fcb",
   "metadata": {},
   "outputs": [
    {
     "data": {
      "text/html": [
       "<div>\n",
       "<style scoped>\n",
       "    .dataframe tbody tr th:only-of-type {\n",
       "        vertical-align: middle;\n",
       "    }\n",
       "\n",
       "    .dataframe tbody tr th {\n",
       "        vertical-align: top;\n",
       "    }\n",
       "\n",
       "    .dataframe thead th {\n",
       "        text-align: right;\n",
       "    }\n",
       "</style>\n",
       "<table border=\"1\" class=\"dataframe\">\n",
       "  <thead>\n",
       "    <tr style=\"text-align: right;\">\n",
       "      <th></th>\n",
       "      <th>Temperature (°C)</th>\n",
       "      <th>Pressure (kPa)</th>\n",
       "      <th>Temperature x Pressure</th>\n",
       "      <th>Material Fusion Metric</th>\n",
       "      <th>Material Transformation Metric</th>\n",
       "      <th>Quality Rating</th>\n",
       "    </tr>\n",
       "  </thead>\n",
       "  <tbody>\n",
       "    <tr>\n",
       "      <th>0</th>\n",
       "      <td>209.762701</td>\n",
       "      <td>8.050855</td>\n",
       "      <td>1688.769167</td>\n",
       "      <td>44522.217074</td>\n",
       "      <td>9.229576e+06</td>\n",
       "      <td>99.999971</td>\n",
       "    </tr>\n",
       "    <tr>\n",
       "      <th>1</th>\n",
       "      <td>243.037873</td>\n",
       "      <td>15.812068</td>\n",
       "      <td>3842.931469</td>\n",
       "      <td>63020.764997</td>\n",
       "      <td>1.435537e+07</td>\n",
       "      <td>99.985703</td>\n",
       "    </tr>\n",
       "    <tr>\n",
       "      <th>2</th>\n",
       "      <td>220.552675</td>\n",
       "      <td>7.843130</td>\n",
       "      <td>1729.823314</td>\n",
       "      <td>49125.950249</td>\n",
       "      <td>1.072839e+07</td>\n",
       "      <td>99.999758</td>\n",
       "    </tr>\n",
       "    <tr>\n",
       "      <th>3</th>\n",
       "      <td>208.976637</td>\n",
       "      <td>23.786089</td>\n",
       "      <td>4970.736918</td>\n",
       "      <td>57128.881547</td>\n",
       "      <td>9.125702e+06</td>\n",
       "      <td>99.999975</td>\n",
       "    </tr>\n",
       "    <tr>\n",
       "      <th>4</th>\n",
       "      <td>184.730960</td>\n",
       "      <td>15.797812</td>\n",
       "      <td>2918.345014</td>\n",
       "      <td>38068.201283</td>\n",
       "      <td>6.303792e+06</td>\n",
       "      <td>100.000000</td>\n",
       "    </tr>\n",
       "  </tbody>\n",
       "</table>\n",
       "</div>"
      ],
      "text/plain": [
       "   Temperature (°C)  Pressure (kPa)  Temperature x Pressure  \\\n",
       "0        209.762701        8.050855             1688.769167   \n",
       "1        243.037873       15.812068             3842.931469   \n",
       "2        220.552675        7.843130             1729.823314   \n",
       "3        208.976637       23.786089             4970.736918   \n",
       "4        184.730960       15.797812             2918.345014   \n",
       "\n",
       "   Material Fusion Metric  Material Transformation Metric  Quality Rating  \n",
       "0            44522.217074                    9.229576e+06       99.999971  \n",
       "1            63020.764997                    1.435537e+07       99.985703  \n",
       "2            49125.950249                    1.072839e+07       99.999758  \n",
       "3            57128.881547                    9.125702e+06       99.999975  \n",
       "4            38068.201283                    6.303792e+06      100.000000  "
      ]
     },
     "execution_count": 4,
     "metadata": {},
     "output_type": "execute_result"
    }
   ],
   "source": [
    "#load the dataset\n",
    "df = pd.read_csv('manufacturing.csv')\n",
    "\n",
    "#show the first few rows\n",
    "df.head()"
   ]
  },
  {
   "cell_type": "markdown",
   "id": "97d08e24",
   "metadata": {},
   "source": [
    "## 🧠 Data Structure & Missing Values\n",
    "\n",
    "Before we begin modeling, it's important to understand the structure of our dataset and check for any missing values.\n",
    "\n",
    "- df.info() tells us the number of entries, data types, and non-null values for each feature.\n",
    "- df.isnull().sum() helps identify whether any columns contain missing data.\n",
    "\n",
    "This initial inspection ensures that our data is clean and ready for modeling."
   ]
  },
  {
   "cell_type": "code",
   "execution_count": 5,
   "id": "c82a3fda",
   "metadata": {},
   "outputs": [
    {
     "name": "stdout",
     "output_type": "stream",
     "text": [
      "<class 'pandas.core.frame.DataFrame'>\n",
      "RangeIndex: 3957 entries, 0 to 3956\n",
      "Data columns (total 6 columns):\n",
      " #   Column                          Non-Null Count  Dtype  \n",
      "---  ------                          --------------  -----  \n",
      " 0   Temperature (°C)                3957 non-null   float64\n",
      " 1   Pressure (kPa)                  3957 non-null   float64\n",
      " 2   Temperature x Pressure          3957 non-null   float64\n",
      " 3   Material Fusion Metric          3957 non-null   float64\n",
      " 4   Material Transformation Metric  3957 non-null   float64\n",
      " 5   Quality Rating                  3957 non-null   float64\n",
      "dtypes: float64(6)\n",
      "memory usage: 185.6 KB\n"
     ]
    },
    {
     "data": {
      "text/plain": [
       "Temperature (°C)                  0\n",
       "Pressure (kPa)                    0\n",
       "Temperature x Pressure            0\n",
       "Material Fusion Metric            0\n",
       "Material Transformation Metric    0\n",
       "Quality Rating                    0\n",
       "dtype: int64"
      ]
     },
     "execution_count": 5,
     "metadata": {},
     "output_type": "execute_result"
    }
   ],
   "source": [
    "df.info()\n",
    "df.isnull().sum()"
   ]
  },
  {
   "cell_type": "markdown",
   "id": "c6894438",
   "metadata": {},
   "source": [
    "## 🎯 Selecting Features and Target using .iloc\n",
    "\n",
    "To keep it simple, we define our feature matrix X and target vector y using column positions:\n",
    "\n",
    "- X includes all columns *except the last one*, which represent the input features.\n",
    "- y is the *last column*, representing the Quality Rating.\n",
    "\n",
    "We use .iloc for positional indexing instead of column names at this stage."
   ]
  },
  {
   "cell_type": "code",
   "execution_count": 6,
   "id": "51747173",
   "metadata": {},
   "outputs": [],
   "source": [
    "x = df.iloc[:, :5].values\n",
    "y = df.iloc[:, -1].values"
   ]
  },
  {
   "cell_type": "markdown",
   "id": "017ced46",
   "metadata": {},
   "source": [
    "## 🧪 Train/Test Split\n",
    "\n",
    "To properly evaluate our model, we split the dataset into a **training set** and a **test set**.\n",
    "\n",
    "- The training set will be used to fit the model.\n",
    "- The test set will be used to evaluate how well the model generalizes to unseen data.\n",
    "\n",
    "We'll use an 80/20 split using `train_test_split` from `scikit-learn`.\n"
   ]
  },
  {
   "cell_type": "code",
   "execution_count": 7,
   "id": "3688efdf",
   "metadata": {},
   "outputs": [],
   "source": [
    "x_train,x_test,y_train,y_test = train_test_split(x,y,test_size=0.2, random_state= 42)"
   ]
  },
  {
   "cell_type": "markdown",
   "id": "e7cee94d",
   "metadata": {},
   "source": [
    "## 📈 Linear Regression – Baseline Model\n",
    "\n",
    "To establish a baseline, we begin with a **Linear Regression** model.\n",
    "\n",
    "Linear Regression assumes a linear relationship between the input features and the target variable. While this assumption is often too simplistic for real-world data, it provides a useful benchmark to compare against more complex models later — such as Polynomial Regression.\n",
    "\n",
    "We'll train the model on the training data and evaluate its performance on the test set.\n"
   ]
  },
  {
   "cell_type": "code",
   "execution_count": 8,
   "id": "cda775ca",
   "metadata": {},
   "outputs": [],
   "source": [
    "\n",
    "# Create and train the model\n",
    "lin_regressor = LinearRegression()\n",
    "lin_regressor.fit(x_train,y_train)\n",
    "\n",
    "\n",
    "# Predict on test set\n",
    "y_linear_prediction = lin_regressor.predict(x_test)\n"
   ]
  },
  {
   "cell_type": "markdown",
   "id": "d2d051c2",
   "metadata": {},
   "source": [
    "## 📊 Model Evaluation – Linear Regression\n",
    "\n",
    "To evaluate the performance of our linear regression model, we calculate two standard metrics:\n",
    "\n",
    "- **R² Score**: Measures how well the model explains the variance in the target variable. Closer to 1 is better.\n",
    "- **Mean Squared Error (MSE)**: Measures the average squared difference between predicted and actual values. Lower is better.\n",
    "\n",
    "These metrics give us a baseline to compare with the more flexible polynomial regression model later.\n"
   ]
  },
  {
   "cell_type": "code",
   "execution_count": 9,
   "id": "69a25fb8",
   "metadata": {},
   "outputs": [
    {
     "name": "stdout",
     "output_type": "stream",
     "text": [
      "the r2_score for linear model is : 0.5145614194082937\n",
      "mse for linear model is : 99.1025809742642\n"
     ]
    }
   ],
   "source": [
    "from sklearn.metrics import r2_score,mean_squared_error\n",
    "\n",
    "\n",
    "# Calculate evaluation metrics\n",
    "r2_linear = r2_score(y_test,y_linear_prediction)\n",
    "mse_linear = mean_squared_error(y_test,y_linear_prediction)\n",
    "\n",
    "print(f'the r2_score for linear model is : {r2_linear}')\n",
    "print(f'mse for linear model is : {mse_linear}')"
   ]
  },
  {
   "cell_type": "markdown",
   "id": "bb00e8d2",
   "metadata": {},
   "source": [
    "### 🎯 Visualizing Linear Regression Predictions\n",
    "\n",
    "Below is a scatter plot comparing the *actual* vs *predicted* quality ratings from our linear regression model.\n",
    "\n",
    "- The *red dashed line* represents a perfect prediction (i.e., predicted = actual).\n",
    "- The *blue dots* show the actual vs predicted outcomes for the test set.\n",
    "\n",
    "If all points fell exactly on the red line, the model would be perfect.  \n",
    "We can observe some dispersion around the line, especially at certain quality ranges, indicating that the linear model is not capturing all the complexity in the data — a good reason to now try *Polynomial Regression*."
   ]
  },
  {
   "cell_type": "code",
   "execution_count": 10,
   "id": "3d4ebd5a",
   "metadata": {},
   "outputs": [
    {
     "name": "stderr",
     "output_type": "stream",
     "text": [
      "C:\\Users\\arshi\\AppData\\Local\\Temp\\ipykernel_23840\\3043410204.py:8: UserWarning: Glyph 128200 (\\N{CHART WITH UPWARDS TREND}) missing from font(s) DejaVu Sans.\n",
      "  plt.tight_layout()\n",
      "c:\\Users\\arshi\\Desktop\\ml\\venv\\Lib\\site-packages\\IPython\\core\\pylabtools.py:170: UserWarning: Glyph 128200 (\\N{CHART WITH UPWARDS TREND}) missing from font(s) DejaVu Sans.\n",
      "  fig.canvas.print_figure(bytes_io, **kw)\n"
     ]
    },
    {
     "data": {
      "image/png": "[encoded data removed]",
      "text/plain": [
       "<Figure size 800x600 with 1 Axes>"
      ]
     },
     "metadata": {},
     "output_type": "display_data"
    }
   ],
   "source": [
    "plt.figure(figsize=(8,6))\n",
    "plt.scatter(y_test, y_linear_prediction, color='blue', alpha=0.5)\n",
    "plt.plot([y_test.min(), y_test.max()], [y_test.min(), y_test.max()], 'r--', linewidth=2)\n",
    "plt.title(\"📈 Linear Regression – Actual vs Predicted\")\n",
    "plt.xlabel(\"Actual Quality Rating\")\n",
    "plt.ylabel(\"Predicted Quality Rating\")\n",
    "plt.grid(True)\n",
    "plt.tight_layout()\n",
    "plt.show()"
   ]
  },
  {
   "cell_type": "markdown",
   "id": "81aeef5f",
   "metadata": {},
   "source": [
    "## 📊 Linear Regression Evaluation\n",
    "\n",
    "We first trained a *Linear Regression* model to predict the manufacturing Quality Rating based on the provided input features.\n",
    "\n",
    "The performance of the model on the test set was as follows:\n",
    "\n",
    "- *R² Score*: 0.5145  \n",
    "  This means the model explains roughly 51% of the variance in quality ratings — a decent start, but there is clearly room for improvement.\n",
    "\n",
    "- *Mean Squared Error (MSE)*: 99.10  \n",
    "  This tells us the average squared difference between actual and predicted values, and it's relatively high given our output scale (0–100).\n",
    "\n",
    "🔍 These results suggest that a *linear relationship* might not fully capture the complexity of the manufacturing process. Let's try a *Polynomial Regression* model next to see if a non-linear fit improves the performance."
   ]
  },
  {
   "cell_type": "code",
   "execution_count": 11,
   "id": "2002f7a8",
   "metadata": {},
   "outputs": [],
   "source": [
    "from sklearn.preprocessing import PolynomialFeatures       # generate polynomial terms\n",
    "poly_regressor = PolynomialFeatures(degree=3)\n",
    "x_poly = poly_regressor.fit_transform(x)\n",
    "linear2 = LinearRegression()"
   ]
  },
  {
   "cell_type": "markdown",
   "id": "5cce9d37",
   "metadata": {},
   "source": [
    "### ✅ Evaluating Polynomial Regression Model\n",
    "\n",
    "In this section, we evaluate the performance of our **Polynomial Regression model (degree = 3)** on the test set.\n",
    "\n",
    "We transform the input features to polynomial terms, fit the model, and then calculate two key metrics:\n",
    "\n",
    "- **R² Score**: Measures how well the model explains the variance in the data.\n",
    "- **Mean Squared Error (MSE)**: Represents the average squared difference between actual and predicted values.\n",
    "\n",
    "As you'll see below, this model significantly outperforms the linear baseline.\n"
   ]
  },
  {
   "cell_type": "code",
   "execution_count": 12,
   "id": "75b4c93f",
   "metadata": {},
   "outputs": [
    {
     "name": "stdout",
     "output_type": "stream",
     "text": [
      "Polynomial Regression R² Score: 0.9575\n",
      "Polynomial Regression MSE: 8.6823\n"
     ]
    }
   ],
   "source": [
    "# Transform test data to polynomial features\n",
    "x_test_poly = poly_regressor.transform(x_test)\n",
    "\n",
    "# Train the polynomial model\n",
    "linear2.fit(x_poly, y)\n",
    "\n",
    "# Predict using the polynomial model\n",
    "y_pred_poly = linear2.predict(x_test_poly)\n",
    "\n",
    "# Evaluate the model performance\n",
    "from sklearn.metrics import mean_squared_error, r2_score\n",
    "mse_poly = mean_squared_error(y_test, y_pred_poly)\n",
    "r2_poly = r2_score(y_test, y_pred_poly)\n",
    "\n",
    "# Print evaluation results\n",
    "print(f\"Polynomial Regression R² Score: {r2_poly:.4f}\")\n",
    "print(f\"Polynomial Regression MSE: {mse_poly:.4f}\")\n"
   ]
  },
  {
   "cell_type": "markdown",
   "id": "416ec613",
   "metadata": {},
   "source": [
    "### 📈 Polynomial Regression – Actual vs Predicted\n",
    "\n",
    "This plot shows the predicted quality ratings from the Polynomial Regression model (degree = 3) compared with the actual values.\n",
    "\n",
    "- The **red dashed line** represents perfect prediction.\n",
    "- The **purple points** are the model's predictions.\n",
    "\n",
    "As seen here, predictions are tightly clustered around the ideal line, reflecting the high R² score of `0.9575` and low MSE of `8.68`.  \n",
    "This demonstrates that the polynomial model effectively captures the complex relationships in the manufacturing data.\n"
   ]
  },
  {
   "cell_type": "code",
   "execution_count": 13,
   "id": "4545a989",
   "metadata": {},
   "outputs": [
    {
     "name": "stderr",
     "output_type": "stream",
     "text": [
      "C:\\Users\\arshi\\AppData\\Local\\Temp\\ipykernel_23840\\446276700.py:8: UserWarning: Glyph 128200 (\\N{CHART WITH UPWARDS TREND}) missing from font(s) DejaVu Sans.\n",
      "  plt.tight_layout()\n",
      "c:\\Users\\arshi\\Desktop\\ml\\venv\\Lib\\site-packages\\IPython\\core\\pylabtools.py:170: UserWarning: Glyph 128200 (\\N{CHART WITH UPWARDS TREND}) missing from font(s) DejaVu Sans.\n",
      "  fig.canvas.print_figure(bytes_io, **kw)\n"
     ]
    },
    {
     "data": {
      "image/png": "[encoded data removed]",
      "text/plain": [
       "<Figure size 800x600 with 1 Axes>"
      ]
     },
     "metadata": {},
     "output_type": "display_data"
    }
   ],
   "source": [
    "plt.figure(figsize=(8,6))\n",
    "plt.scatter(y_test, y_pred_poly, color='purple', alpha=0.5)\n",
    "plt.plot([y_test.min(), y_test.max()], [y_test.min(), y_test.max()], 'r--')\n",
    "plt.title(\"📈 Polynomial Regression – Actual vs Predicted\")\n",
    "plt.xlabel(\"Actual Quality Rating\")\n",
    "plt.ylabel(\"Predicted Quality Rating\")\n",
    "plt.grid(True)\n",
    "plt.tight_layout()\n",
    "plt.show()\n"
   ]
  },
  {
   "cell_type": "markdown",
   "id": "708b24d9",
   "metadata": {},
   "source": [
    "## 🧠 Conclusion\n",
    "\n",
    "In this notebook, we explored and compared two regression models to predict manufacturing quality:\n",
    "\n",
    "- **Linear Regression** (Baseline)\n",
    "- **Polynomial Regression** (Degree = 3)\n",
    "\n",
    "### 🔍 Key Insights:\n",
    "\n",
    "- The **Linear Regression** model achieved an R² score of `0.5145` and an MSE of `99.10`, indicating that it could only partially capture the variability in the data.\n",
    "- The **Polynomial Regression** model significantly outperformed it with an R² of `0.9575` and a much lower MSE of `8.68`.\n",
    "\n",
    "These results confirm that the relationship between input features and quality rating is **non-linear**, and using a polynomial model greatly improves predictive accuracy.\n",
    "\n",
    "### ✅ Final Thoughts:\n",
    "\n",
    "- Polynomial regression can be a powerful tool for capturing non-linear trends, but care must be taken to avoid overfitting (especially with higher degrees).\n",
    "- For further improvement, we could experiment with **regularized models** (like Ridge/Lasso), or apply **cross-validation** to make the evaluation more robust.\n",
    "\n",
    "This modeling approach could be a useful asset for real-time quality prediction in industrial settings, helping reduce waste and improve manufacturing efficiency.\n"
   ]
  },
  {
   "cell_type": "markdown",
   "id": "7a7e7560",
   "metadata": {},
   "source": [
    "### 🔮 Future Work\n",
    "\n",
    "While the current model demonstrates solid performance in predicting manufacturing output using multiple linear regression, there are several directions to improve and expand this analysis:\n",
    "\n",
    "- **Regularization Techniques**: Implement Ridge and Lasso regression to handle potential multicollinearity and prevent overfitting.\n",
    "- **Nonlinear Modeling**: Try polynomial regression or tree-based models (like Decision Tree, Random Forest, or XGBoost) to capture more complex relationships.\n",
    "- **Feature Engineering**: Extract new variables such as production efficiency, machine hours, or worker productivity if data allows.\n",
    "- **Time-Based Analysis**: Introduce time-series components (e.g., lag features or rolling averages) if the dataset includes timestamps.\n",
    "- **Model Comparison**: Benchmark multiple regression models to determine the best-performing one for this domain.\n",
    "- **Deployment Readiness**: Prepare the model for deployment by adding scaling, validation pipelines, and saving the trained model.\n",
    "\n",
    "---\n",
    "\n",
    "Adding these improvements can make the model more accurate, generalizable, and valuable in real-world factory production optimization scenarios.\n"
   ]
  },
  {
   "cell_type": "markdown",
   "id": "90d6f38d",
   "metadata": {},
   "source": []
  }
 ],
 "metadata": {
  "kernelspec": {
   "display_name": "myenv",
   "language": "python",
   "name": "myenv"
  },
  "language_info": {
   "codemirror_mode": {
    "name": "ipython",
    "version": 3
   },
   "file_extension": ".py",
   "mimetype": "text/x-python",
   "name": "python",
   "nbconvert_exporter": "python",
   "pygments_lexer": "ipython3",
   "version": "3.12.10"
  }
 },
 "nbformat": 4,
 "nbformat_minor": 5
}
